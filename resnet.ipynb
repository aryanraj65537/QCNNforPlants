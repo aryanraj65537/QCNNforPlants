{
 "cells": [
  {
   "cell_type": "code",
   "execution_count": 1,
   "id": "a286d371",
   "metadata": {
    "execution": {
     "iopub.execute_input": "2025-01-20T03:49:59.355291Z",
     "iopub.status.busy": "2025-01-20T03:49:59.355053Z",
     "iopub.status.idle": "2025-01-20T03:50:08.706379Z",
     "shell.execute_reply": "2025-01-20T03:50:08.705665Z"
    },
    "papermill": {
     "duration": 9.357528,
     "end_time": "2025-01-20T03:50:08.707970",
     "exception": false,
     "start_time": "2025-01-20T03:49:59.350442",
     "status": "completed"
    },
    "tags": []
   },
   "outputs": [],
   "source": [
    "import os\n",
    "from torchvision import datasets, transforms, models\n",
    "from torch.utils.data import DataLoader\n",
    "import torch\n",
    "import torch.nn as nn\n",
    "import torch.optim as optim\n",
    "import matplotlib.pyplot as plt\n",
    "from sklearn.metrics import classification_report, confusion_matrix\n",
    "import seaborn as sns\n",
    "import numpy as np"
   ]
  },
  {
   "cell_type": "code",
   "execution_count": 2,
   "id": "cb26d05f",
   "metadata": {
    "execution": {
     "iopub.execute_input": "2025-01-20T03:50:08.715982Z",
     "iopub.status.busy": "2025-01-20T03:50:08.715618Z",
     "iopub.status.idle": "2025-01-20T03:50:08.767815Z",
     "shell.execute_reply": "2025-01-20T03:50:08.767095Z"
    },
    "papermill": {
     "duration": 0.057533,
     "end_time": "2025-01-20T03:50:08.769285",
     "exception": false,
     "start_time": "2025-01-20T03:50:08.711752",
     "status": "completed"
    },
    "tags": []
   },
   "outputs": [
    {
     "name": "stdout",
     "output_type": "stream",
     "text": [
      "cuda\n"
     ]
    }
   ],
   "source": [
    "device = torch.device(\"cuda\" if torch.cuda.is_available() else \"cpu\")\n",
    "print(device)"
   ]
  },
  {
   "cell_type": "code",
   "execution_count": 3,
   "id": "bbe8c134",
   "metadata": {
    "execution": {
     "iopub.execute_input": "2025-01-20T03:50:08.777093Z",
     "iopub.status.busy": "2025-01-20T03:50:08.776840Z",
     "iopub.status.idle": "2025-01-20T03:50:08.780005Z",
     "shell.execute_reply": "2025-01-20T03:50:08.779235Z"
    },
    "papermill": {
     "duration": 0.008212,
     "end_time": "2025-01-20T03:50:08.781209",
     "exception": false,
     "start_time": "2025-01-20T03:50:08.772997",
     "status": "completed"
    },
    "tags": []
   },
   "outputs": [],
   "source": [
    "data_dir = '/kaggle/input/bean-crop-disease-diagnosis-and-spatial-analysis/Classification/Classification'"
   ]
  },
  {
   "cell_type": "code",
   "execution_count": 4,
   "id": "713f0086",
   "metadata": {
    "_cell_guid": "b1076dfc-b9ad-4769-8c92-a6c4dae69d19",
    "_uuid": "8f2839f25d086af736a60e9eeb907d3b93b6e0e5",
    "execution": {
     "iopub.execute_input": "2025-01-20T03:50:08.788450Z",
     "iopub.status.busy": "2025-01-20T03:50:08.788254Z",
     "iopub.status.idle": "2025-01-20T03:50:08.791517Z",
     "shell.execute_reply": "2025-01-20T03:50:08.790889Z"
    },
    "papermill": {
     "duration": 0.008156,
     "end_time": "2025-01-20T03:50:08.792647",
     "exception": false,
     "start_time": "2025-01-20T03:50:08.784491",
     "status": "completed"
    },
    "tags": []
   },
   "outputs": [],
   "source": [
    "train_dir = os.path.join(data_dir, 'training')\n",
    "val_dir = os.path.join(data_dir, 'validation')\n",
    "test_dir = os.path.join(data_dir, 'test')"
   ]
  },
  {
   "cell_type": "code",
   "execution_count": 5,
   "id": "2ced61de",
   "metadata": {
    "execution": {
     "iopub.execute_input": "2025-01-20T03:50:08.799843Z",
     "iopub.status.busy": "2025-01-20T03:50:08.799647Z",
     "iopub.status.idle": "2025-01-20T03:50:08.804005Z",
     "shell.execute_reply": "2025-01-20T03:50:08.803367Z"
    },
    "papermill": {
     "duration": 0.009237,
     "end_time": "2025-01-20T03:50:08.805172",
     "exception": false,
     "start_time": "2025-01-20T03:50:08.795935",
     "status": "completed"
    },
    "tags": []
   },
   "outputs": [],
   "source": [
    "train_transforms = transforms.Compose([\n",
    "    transforms.Resize((224, 224)),\n",
    "    transforms.RandomHorizontalFlip(),\n",
    "    transforms.RandomRotation(15),\n",
    "    transforms.ToTensor(),\n",
    "    transforms.Normalize([0.485, 0.456, 0.406], [0.229, 0.224, 0.225])\n",
    "])\n",
    "\n",
    "val_transforms = transforms.Compose([\n",
    "    transforms.Resize((224, 224)),\n",
    "    transforms.ToTensor(),\n",
    "    transforms.Normalize([0.485, 0.456, 0.406], [0.229, 0.224, 0.225])\n",
    "])"
   ]
  },
  {
   "cell_type": "code",
   "execution_count": 6,
   "id": "175fe137",
   "metadata": {
    "execution": {
     "iopub.execute_input": "2025-01-20T03:50:08.812210Z",
     "iopub.status.busy": "2025-01-20T03:50:08.811983Z",
     "iopub.status.idle": "2025-01-20T03:50:20.207242Z",
     "shell.execute_reply": "2025-01-20T03:50:20.206506Z"
    },
    "papermill": {
     "duration": 11.400354,
     "end_time": "2025-01-20T03:50:20.208768",
     "exception": false,
     "start_time": "2025-01-20T03:50:08.808414",
     "status": "completed"
    },
    "tags": []
   },
   "outputs": [],
   "source": [
    "train_dataset = datasets.ImageFolder(train_dir, transform=train_transforms)\n",
    "val_dataset = datasets.ImageFolder(val_dir, transform=val_transforms)\n",
    "test_dataset = datasets.ImageFolder(test_dir, transform=val_transforms)"
   ]
  },
  {
   "cell_type": "code",
   "execution_count": 7,
   "id": "8a00526b",
   "metadata": {
    "execution": {
     "iopub.execute_input": "2025-01-20T03:50:20.216996Z",
     "iopub.status.busy": "2025-01-20T03:50:20.216757Z",
     "iopub.status.idle": "2025-01-20T03:50:20.220436Z",
     "shell.execute_reply": "2025-01-20T03:50:20.219830Z"
    },
    "papermill": {
     "duration": 0.009153,
     "end_time": "2025-01-20T03:50:20.221630",
     "exception": false,
     "start_time": "2025-01-20T03:50:20.212477",
     "status": "completed"
    },
    "tags": []
   },
   "outputs": [],
   "source": [
    "train_loader = DataLoader(train_dataset, batch_size=16, shuffle=True)\n",
    "val_loader = DataLoader(val_dataset, batch_size=16, shuffle=False)\n",
    "test_loader = DataLoader(test_dataset, batch_size=16, shuffle=False)"
   ]
  },
  {
   "cell_type": "code",
   "execution_count": 8,
   "id": "764e2b1b",
   "metadata": {
    "execution": {
     "iopub.execute_input": "2025-01-20T03:50:20.228959Z",
     "iopub.status.busy": "2025-01-20T03:50:20.228753Z",
     "iopub.status.idle": "2025-01-20T03:50:21.445060Z",
     "shell.execute_reply": "2025-01-20T03:50:21.444103Z"
    },
    "papermill": {
     "duration": 1.221742,
     "end_time": "2025-01-20T03:50:21.446711",
     "exception": false,
     "start_time": "2025-01-20T03:50:20.224969",
     "status": "completed"
    },
    "tags": []
   },
   "outputs": [
    {
     "name": "stderr",
     "output_type": "stream",
     "text": [
      "Downloading: \"https://download.pytorch.org/models/resnet18-f37072fd.pth\" to /root/.cache/torch/hub/checkpoints/resnet18-f37072fd.pth\n",
      "100%|██████████| 44.7M/44.7M [00:00<00:00, 69.4MB/s]\n"
     ]
    }
   ],
   "source": [
    "model = models.resnet18(weights='DEFAULT')\n",
    "num_features = model.fc.in_features\n",
    "model.fc = nn.Linear(num_features, 4)\n",
    "model = model.to(device)"
   ]
  },
  {
   "cell_type": "code",
   "execution_count": 9,
   "id": "1c7d7785",
   "metadata": {
    "execution": {
     "iopub.execute_input": "2025-01-20T03:50:21.455649Z",
     "iopub.status.busy": "2025-01-20T03:50:21.455420Z",
     "iopub.status.idle": "2025-01-20T03:50:21.459156Z",
     "shell.execute_reply": "2025-01-20T03:50:21.458504Z"
    },
    "papermill": {
     "duration": 0.009349,
     "end_time": "2025-01-20T03:50:21.460263",
     "exception": false,
     "start_time": "2025-01-20T03:50:21.450914",
     "status": "completed"
    },
    "tags": []
   },
   "outputs": [],
   "source": [
    "criterion = nn.CrossEntropyLoss()\n",
    "optimizer = optim.Adam(model.parameters(), lr=0.000001, weight_decay=.0001)"
   ]
  },
  {
   "cell_type": "code",
   "execution_count": 10,
   "id": "1708ce19",
   "metadata": {
    "execution": {
     "iopub.execute_input": "2025-01-20T03:50:21.468402Z",
     "iopub.status.busy": "2025-01-20T03:50:21.468182Z",
     "iopub.status.idle": "2025-01-20T03:50:21.475449Z",
     "shell.execute_reply": "2025-01-20T03:50:21.474678Z"
    },
    "papermill": {
     "duration": 0.012644,
     "end_time": "2025-01-20T03:50:21.476655",
     "exception": false,
     "start_time": "2025-01-20T03:50:21.464011",
     "status": "completed"
    },
    "tags": []
   },
   "outputs": [],
   "source": [
    "def train_model(model, train_loader, val_loader, criterion, optimizer, num_epochs=25):\n",
    "    train_losses = []\n",
    "    val_losses = []\n",
    "    train_accuracies = []\n",
    "    val_accuracies = []\n",
    "\n",
    "    for epoch in range(num_epochs):\n",
    "        model.train()\n",
    "        running_loss = 0.0\n",
    "        correct = 0\n",
    "        total = 0\n",
    "\n",
    "        for inputs, labels in train_loader:\n",
    "            inputs, labels = inputs.to(device), labels.to(device)\n",
    "\n",
    "            optimizer.zero_grad()\n",
    "            outputs = model(inputs)\n",
    "            loss = criterion(outputs, labels)\n",
    "            loss.backward()\n",
    "            optimizer.step()\n",
    "\n",
    "            running_loss += loss.item() * inputs.size(0)\n",
    "            _, preds = torch.max(outputs, 1)\n",
    "            correct += (preds == labels).sum().item()\n",
    "            total += labels.size(0)\n",
    "\n",
    "        epoch_loss = running_loss / len(train_loader.dataset)\n",
    "        epoch_acc = correct / total\n",
    "        train_losses.append(epoch_loss)\n",
    "        train_accuracies.append(epoch_acc)\n",
    "\n",
    "        print(f\"Epoch {epoch + 1}/{num_epochs} - Loss: {epoch_loss:.4f}, Accuracy: {epoch_acc:.4f}\")\n",
    "\n",
    "        # Validation\n",
    "        model.eval()\n",
    "        val_loss = 0.0\n",
    "        val_correct = 0\n",
    "        val_total = 0\n",
    "\n",
    "        with torch.no_grad():\n",
    "            for inputs, labels in val_loader:\n",
    "                inputs, labels = inputs.to(device), labels.to(device)\n",
    "                outputs = model(inputs)\n",
    "                loss = criterion(outputs, labels)\n",
    "\n",
    "                val_loss += loss.item() * inputs.size(0)\n",
    "                _, preds = torch.max(outputs, 1)\n",
    "                val_correct += (preds == labels).sum().item()\n",
    "                val_total += labels.size(0)\n",
    "\n",
    "        val_loss = val_loss / len(val_loader.dataset)\n",
    "        val_acc = val_correct / val_total\n",
    "        val_losses.append(val_loss)\n",
    "        val_accuracies.append(val_acc)\n",
    "\n",
    "        print(f\"Validation Loss: {val_loss:.4f}, Validation Accuracy: {val_acc:.4f}\\n\")\n",
    "\n",
    "    return train_losses, val_losses, train_accuracies, val_accuracies"
   ]
  },
  {
   "cell_type": "code",
   "execution_count": 11,
   "id": "51a4cc35",
   "metadata": {
    "execution": {
     "iopub.execute_input": "2025-01-20T03:50:21.484870Z",
     "iopub.status.busy": "2025-01-20T03:50:21.484650Z",
     "iopub.status.idle": "2025-01-20T03:50:21.489430Z",
     "shell.execute_reply": "2025-01-20T03:50:21.488645Z"
    },
    "papermill": {
     "duration": 0.010208,
     "end_time": "2025-01-20T03:50:21.490621",
     "exception": false,
     "start_time": "2025-01-20T03:50:21.480413",
     "status": "completed"
    },
    "tags": []
   },
   "outputs": [],
   "source": [
    "def plot_training_history(train_losses, val_losses, train_accuracies, val_accuracies, num_epochs):\n",
    "    plt.figure(figsize=(12, 6))\n",
    "\n",
    "    # Loss plot\n",
    "    plt.subplot(1, 2, 1)\n",
    "    plt.plot(range(1, num_epochs + 1), train_losses, label='Train Loss')\n",
    "    plt.plot(range(1, num_epochs + 1), val_losses, label='Validation Loss')\n",
    "    plt.xlabel('Epochs')\n",
    "    plt.ylabel('Loss')\n",
    "    plt.title('Loss Over Epochs')\n",
    "    plt.legend()\n",
    "\n",
    "    # Accuracy plot\n",
    "    plt.subplot(1, 2, 2)\n",
    "    plt.plot(range(1, num_epochs + 1), train_accuracies, label='Train Accuracy')\n",
    "    plt.plot(range(1, num_epochs + 1), val_accuracies, label='Validation Accuracy')\n",
    "    plt.xlabel('Epochs')\n",
    "    plt.ylabel('Accuracy')\n",
    "    plt.title('Accuracy Over Epochs')\n",
    "    plt.legend()\n",
    "\n",
    "    plt.tight_layout()\n",
    "    plt.show()"
   ]
  },
  {
   "cell_type": "code",
   "execution_count": 12,
   "id": "69104488",
   "metadata": {
    "execution": {
     "iopub.execute_input": "2025-01-20T03:50:21.498600Z",
     "iopub.status.busy": "2025-01-20T03:50:21.498372Z",
     "iopub.status.idle": "2025-01-20T04:02:13.608532Z",
     "shell.execute_reply": "2025-01-20T04:02:13.607403Z"
    },
    "papermill": {
     "duration": 712.115787,
     "end_time": "2025-01-20T04:02:13.610085",
     "exception": false,
     "start_time": "2025-01-20T03:50:21.494298",
     "status": "completed"
    },
    "tags": []
   },
   "outputs": [
    {
     "name": "stdout",
     "output_type": "stream",
     "text": [
      "Epoch 1/25 - Loss: 1.2907, Accuracy: 0.3830\n",
      "Validation Loss: 1.1351, Validation Accuracy: 0.4888\n",
      "\n",
      "Epoch 2/25 - Loss: 1.0126, Accuracy: 0.5890\n",
      "Validation Loss: 0.8851, Validation Accuracy: 0.6736\n",
      "\n",
      "Epoch 3/25 - Loss: 0.8362, Accuracy: 0.6975\n",
      "Validation Loss: 0.7265, Validation Accuracy: 0.7432\n",
      "\n",
      "Epoch 4/25 - Loss: 0.7152, Accuracy: 0.7509\n",
      "Validation Loss: 0.6181, Validation Accuracy: 0.7819\n",
      "\n",
      "Epoch 5/25 - Loss: 0.6271, Accuracy: 0.7836\n",
      "Validation Loss: 0.5743, Validation Accuracy: 0.7842\n",
      "\n",
      "Epoch 6/25 - Loss: 0.5615, Accuracy: 0.8119\n",
      "Validation Loss: 0.4935, Validation Accuracy: 0.8268\n",
      "\n",
      "Epoch 7/25 - Loss: 0.5153, Accuracy: 0.8182\n",
      "Validation Loss: 0.4517, Validation Accuracy: 0.8353\n",
      "\n",
      "Epoch 8/25 - Loss: 0.4822, Accuracy: 0.8290\n",
      "Validation Loss: 0.4244, Validation Accuracy: 0.8461\n",
      "\n",
      "Epoch 9/25 - Loss: 0.4486, Accuracy: 0.8392\n",
      "Validation Loss: 0.4135, Validation Accuracy: 0.8422\n",
      "\n",
      "Epoch 10/25 - Loss: 0.4272, Accuracy: 0.8429\n",
      "Validation Loss: 0.3665, Validation Accuracy: 0.8716\n",
      "\n",
      "Epoch 11/25 - Loss: 0.4146, Accuracy: 0.8449\n",
      "Validation Loss: 0.3425, Validation Accuracy: 0.8794\n",
      "\n",
      "Epoch 12/25 - Loss: 0.3859, Accuracy: 0.8605\n",
      "Validation Loss: 0.3339, Validation Accuracy: 0.8871\n",
      "\n",
      "Epoch 13/25 - Loss: 0.3660, Accuracy: 0.8673\n",
      "Validation Loss: 0.3502, Validation Accuracy: 0.8670\n",
      "\n",
      "Epoch 14/25 - Loss: 0.3483, Accuracy: 0.8764\n",
      "Validation Loss: 0.3439, Validation Accuracy: 0.8654\n",
      "\n",
      "Epoch 15/25 - Loss: 0.3410, Accuracy: 0.8732\n",
      "Validation Loss: 0.3045, Validation Accuracy: 0.8886\n",
      "\n",
      "Epoch 16/25 - Loss: 0.3404, Accuracy: 0.8775\n",
      "Validation Loss: 0.3041, Validation Accuracy: 0.8886\n",
      "\n",
      "Epoch 17/25 - Loss: 0.3224, Accuracy: 0.8808\n",
      "Validation Loss: 0.2850, Validation Accuracy: 0.8979\n",
      "\n",
      "Epoch 18/25 - Loss: 0.3214, Accuracy: 0.8833\n",
      "Validation Loss: 0.2826, Validation Accuracy: 0.8886\n",
      "\n",
      "Epoch 19/25 - Loss: 0.2980, Accuracy: 0.8903\n",
      "Validation Loss: 0.2704, Validation Accuracy: 0.8995\n",
      "\n",
      "Epoch 20/25 - Loss: 0.2918, Accuracy: 0.8911\n",
      "Validation Loss: 0.2587, Validation Accuracy: 0.9026\n",
      "\n",
      "Epoch 21/25 - Loss: 0.3045, Accuracy: 0.8861\n",
      "Validation Loss: 0.2648, Validation Accuracy: 0.9041\n",
      "\n",
      "Epoch 22/25 - Loss: 0.2761, Accuracy: 0.8987\n",
      "Validation Loss: 0.2530, Validation Accuracy: 0.9010\n",
      "\n",
      "Epoch 23/25 - Loss: 0.2849, Accuracy: 0.8961\n",
      "Validation Loss: 0.2486, Validation Accuracy: 0.9111\n",
      "\n",
      "Epoch 24/25 - Loss: 0.2617, Accuracy: 0.9034\n",
      "Validation Loss: 0.2392, Validation Accuracy: 0.9064\n",
      "\n",
      "Epoch 25/25 - Loss: 0.2589, Accuracy: 0.9064\n",
      "Validation Loss: 0.2440, Validation Accuracy: 0.9142\n",
      "\n"
     ]
    }
   ],
   "source": [
    "num_epochs = 25\n",
    "train_losses, val_losses, train_accuracies, val_accuracies = train_model(model, train_loader, val_loader, criterion, optimizer, num_epochs)"
   ]
  },
  {
   "cell_type": "code",
   "execution_count": 13,
   "id": "4ffaf468",
   "metadata": {
    "execution": {
     "iopub.execute_input": "2025-01-20T04:02:13.624452Z",
     "iopub.status.busy": "2025-01-20T04:02:13.624099Z",
     "iopub.status.idle": "2025-01-20T04:02:14.056156Z",
     "shell.execute_reply": "2025-01-20T04:02:14.055274Z"
    },
    "papermill": {
     "duration": 0.440934,
     "end_time": "2025-01-20T04:02:14.057477",
     "exception": false,
     "start_time": "2025-01-20T04:02:13.616543",
     "status": "completed"
    },
    "tags": []
   },
   "outputs": [
    {
     "data": {
      "image/png": "[encoded data removed]",
      "text/plain": [
       "<Figure size 1200x600 with 2 Axes>"
      ]
     },
     "metadata": {},
     "output_type": "display_data"
    }
   ],
   "source": [
    "plot_training_history(train_losses, val_losses, train_accuracies, val_accuracies, num_epochs)"
   ]
  },
  {
   "cell_type": "code",
   "execution_count": 14,
   "id": "caa0d8b4",
   "metadata": {
    "execution": {
     "iopub.execute_input": "2025-01-20T04:02:14.073117Z",
     "iopub.status.busy": "2025-01-20T04:02:14.072819Z",
     "iopub.status.idle": "2025-01-20T04:02:14.141594Z",
     "shell.execute_reply": "2025-01-20T04:02:14.140873Z"
    },
    "papermill": {
     "duration": 0.077992,
     "end_time": "2025-01-20T04:02:14.143094",
     "exception": false,
     "start_time": "2025-01-20T04:02:14.065102",
     "status": "completed"
    },
    "tags": []
   },
   "outputs": [],
   "source": [
    "torch.save(model.state_dict(), \"resnet18_bean_disease.pth\")"
   ]
  },
  {
   "cell_type": "code",
   "execution_count": 15,
   "id": "84562dc1",
   "metadata": {
    "execution": {
     "iopub.execute_input": "2025-01-20T04:02:14.159689Z",
     "iopub.status.busy": "2025-01-20T04:02:14.159423Z",
     "iopub.status.idle": "2025-01-20T04:02:14.164499Z",
     "shell.execute_reply": "2025-01-20T04:02:14.163699Z"
    },
    "papermill": {
     "duration": 0.014488,
     "end_time": "2025-01-20T04:02:14.165829",
     "exception": false,
     "start_time": "2025-01-20T04:02:14.151341",
     "status": "completed"
    },
    "tags": []
   },
   "outputs": [],
   "source": [
    "def test_model(model, test_loader):\n",
    "    model.eval()\n",
    "    correct = 0\n",
    "    total = 0\n",
    "    all_preds = []\n",
    "    all_labels = []\n",
    "\n",
    "    with torch.no_grad():\n",
    "        for inputs, labels in test_loader:\n",
    "            inputs, labels = inputs.to(device), labels.to(device)\n",
    "            outputs = model(inputs)\n",
    "            _, preds = torch.max(outputs, 1)\n",
    "            correct += (preds == labels).sum().item()\n",
    "            total += labels.size(0)\n",
    "\n",
    "            all_preds.extend(preds.cpu().numpy())\n",
    "            all_labels.extend(labels.cpu().numpy())\n",
    "\n",
    "    print(f\"Test Accuracy: {correct / total:.4f}\")\n",
    "    return all_labels, all_preds"
   ]
  },
  {
   "cell_type": "code",
   "execution_count": 16,
   "id": "a9baddef",
   "metadata": {
    "execution": {
     "iopub.execute_input": "2025-01-20T04:02:14.180590Z",
     "iopub.status.busy": "2025-01-20T04:02:14.180380Z",
     "iopub.status.idle": "2025-01-20T04:02:14.184311Z",
     "shell.execute_reply": "2025-01-20T04:02:14.183722Z"
    },
    "papermill": {
     "duration": 0.012556,
     "end_time": "2025-01-20T04:02:14.185527",
     "exception": false,
     "start_time": "2025-01-20T04:02:14.172971",
     "status": "completed"
    },
    "tags": []
   },
   "outputs": [],
   "source": [
    "def plot_test_metrics(all_labels, all_preds, classes):\n",
    "    print(\"Classification Report:\")\n",
    "    print(classification_report(all_labels, all_preds, target_names=classes))\n",
    "\n",
    "    cm = confusion_matrix(all_labels, all_preds)\n",
    "    plt.figure(figsize=(8, 8))\n",
    "    sns.heatmap(cm, annot=True, fmt='d', cmap='Blues', xticklabels=classes, yticklabels=classes)\n",
    "    plt.xlabel('Predicted')\n",
    "    plt.ylabel('Actual')\n",
    "    plt.title('Confusion Matrix')\n",
    "    plt.show()"
   ]
  },
  {
   "cell_type": "code",
   "execution_count": 17,
   "id": "b42d1105",
   "metadata": {
    "execution": {
     "iopub.execute_input": "2025-01-20T04:02:14.200364Z",
     "iopub.status.busy": "2025-01-20T04:02:14.200161Z",
     "iopub.status.idle": "2025-01-20T04:02:21.254294Z",
     "shell.execute_reply": "2025-01-20T04:02:21.253267Z"
    },
    "papermill": {
     "duration": 7.063119,
     "end_time": "2025-01-20T04:02:21.255801",
     "exception": false,
     "start_time": "2025-01-20T04:02:14.192682",
     "status": "completed"
    },
    "tags": []
   },
   "outputs": [
    {
     "name": "stdout",
     "output_type": "stream",
     "text": [
      "Test Accuracy: 0.8997\n"
     ]
    }
   ],
   "source": [
    "all_labels, all_preds = test_model(model, test_loader)"
   ]
  },
  {
   "cell_type": "code",
   "execution_count": 18,
   "id": "c0f084d2",
   "metadata": {
    "execution": {
     "iopub.execute_input": "2025-01-20T04:02:21.272041Z",
     "iopub.status.busy": "2025-01-20T04:02:21.271760Z",
     "iopub.status.idle": "2025-01-20T04:02:21.492538Z",
     "shell.execute_reply": "2025-01-20T04:02:21.491694Z"
    },
    "papermill": {
     "duration": 0.229917,
     "end_time": "2025-01-20T04:02:21.493756",
     "exception": false,
     "start_time": "2025-01-20T04:02:21.263839",
     "status": "completed"
    },
    "tags": []
   },
   "outputs": [
    {
     "name": "stdout",
     "output_type": "stream",
     "text": [
      "Classification Report:\n",
      "              precision    recall  f1-score   support\n",
      "\n",
      "         als       0.91      0.78      0.84       376\n",
      "   bean_rust       0.82      0.89      0.85       376\n",
      "     healthy       0.93      0.98      0.95       343\n",
      "     unknown       1.00      1.00      1.00       201\n",
      "\n",
      "    accuracy                           0.90      1296\n",
      "   macro avg       0.91      0.91      0.91      1296\n",
      "weighted avg       0.90      0.90      0.90      1296\n",
      "\n"
     ]
    },
    {
     "data": {
      "image/png": "[encoded data removed]",
      "text/plain": [
       "<Figure size 800x800 with 2 Axes>"
      ]
     },
     "metadata": {},
     "output_type": "display_data"
    }
   ],
   "source": [
    "plot_test_metrics(all_labels, all_preds, test_loader.dataset.classes)"
   ]
  }
 ],
 "metadata": {
  "kaggle": {
   "accelerator": "gpu",
   "dataSources": [
    {
     "datasetId": 5066884,
     "sourceId": 8492512,
     "sourceType": "datasetVersion"
    }
   ],
   "dockerImageVersionId": 30840,
   "isGpuEnabled": true,
   "isInternetEnabled": true,
   "language": "python",
   "sourceType": "notebook"
  },
  "kernelspec": {
   "display_name": "Python 3",
   "language": "python",
   "name": "python3"
  },
  "language_info": {
   "codemirror_mode": {
    "name": "ipython",
    "version": 3
   },
   "file_extension": ".py",
   "mimetype": "text/x-python",
   "name": "python",
   "nbconvert_exporter": "python",
   "pygments_lexer": "ipython3",
   "version": "3.10.12"
  },
  "papermill": {
   "default_parameters": {},
   "duration": 747.031875,
   "end_time": "2025-01-20T04:02:23.871363",
   "environment_variables": {},
   "exception": null,
   "input_path": "__notebook__.ipynb",
   "output_path": "__notebook__.ipynb",
   "parameters": {},
   "start_time": "2025-01-20T03:49:56.839488",
   "version": "2.6.0"
  }
 },
 "nbformat": 4,
 "nbformat_minor": 5
}
