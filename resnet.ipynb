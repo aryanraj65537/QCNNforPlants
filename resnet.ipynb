{
 "cells": [
  {
   "cell_type": "code",
   "execution_count": 1,
   "id": "b55d2e46",
   "metadata": {
    "execution": {
     "iopub.execute_input": "2025-01-20T03:05:03.681575Z",
     "iopub.status.busy": "2025-01-20T03:05:03.681327Z",
     "iopub.status.idle": "2025-01-20T03:05:13.039609Z",
     "shell.execute_reply": "2025-01-20T03:05:13.038908Z"
    },
    "papermill": {
     "duration": 9.364562,
     "end_time": "2025-01-20T03:05:13.041241",
     "exception": false,
     "start_time": "2025-01-20T03:05:03.676679",
     "status": "completed"
    },
    "tags": []
   },
   "outputs": [],
   "source": [
    "import os\n",
    "from torchvision import datasets, transforms, models\n",
    "from torch.utils.data import DataLoader\n",
    "import torch\n",
    "import torch.nn as nn\n",
    "import torch.optim as optim\n",
    "import matplotlib.pyplot as plt\n",
    "from sklearn.metrics import classification_report, confusion_matrix\n",
    "import seaborn as sns\n",
    "import numpy as np"
   ]
  },
  {
   "cell_type": "code",
   "execution_count": 2,
   "id": "a34761a9",
   "metadata": {
    "execution": {
     "iopub.execute_input": "2025-01-20T03:05:13.049455Z",
     "iopub.status.busy": "2025-01-20T03:05:13.049104Z",
     "iopub.status.idle": "2025-01-20T03:05:13.104110Z",
     "shell.execute_reply": "2025-01-20T03:05:13.103320Z"
    },
    "papermill": {
     "duration": 0.060365,
     "end_time": "2025-01-20T03:05:13.105459",
     "exception": false,
     "start_time": "2025-01-20T03:05:13.045094",
     "status": "completed"
    },
    "tags": []
   },
   "outputs": [
    {
     "name": "stdout",
     "output_type": "stream",
     "text": [
      "cuda\n"
     ]
    }
   ],
   "source": [
    "device = torch.device(\"cuda\" if torch.cuda.is_available() else \"cpu\")\n",
    "print(device)"
   ]
  },
  {
   "cell_type": "code",
   "execution_count": 3,
   "id": "7140b2c3",
   "metadata": {
    "execution": {
     "iopub.execute_input": "2025-01-20T03:05:13.113199Z",
     "iopub.status.busy": "2025-01-20T03:05:13.112936Z",
     "iopub.status.idle": "2025-01-20T03:05:13.115722Z",
     "shell.execute_reply": "2025-01-20T03:05:13.115132Z"
    },
    "papermill": {
     "duration": 0.007861,
     "end_time": "2025-01-20T03:05:13.116891",
     "exception": false,
     "start_time": "2025-01-20T03:05:13.109030",
     "status": "completed"
    },
    "tags": []
   },
   "outputs": [],
   "source": [
    "data_dir = '/kaggle/input/bean-crop-disease-diagnosis-and-spatial-analysis/Classification/Classification'"
   ]
  },
  {
   "cell_type": "code",
   "execution_count": 4,
   "id": "93f51b6d",
   "metadata": {
    "_cell_guid": "b1076dfc-b9ad-4769-8c92-a6c4dae69d19",
    "_uuid": "8f2839f25d086af736a60e9eeb907d3b93b6e0e5",
    "execution": {
     "iopub.execute_input": "2025-01-20T03:05:13.124222Z",
     "iopub.status.busy": "2025-01-20T03:05:13.124016Z",
     "iopub.status.idle": "2025-01-20T03:05:13.127163Z",
     "shell.execute_reply": "2025-01-20T03:05:13.126554Z"
    },
    "papermill": {
     "duration": 0.008071,
     "end_time": "2025-01-20T03:05:13.128361",
     "exception": false,
     "start_time": "2025-01-20T03:05:13.120290",
     "status": "completed"
    },
    "tags": []
   },
   "outputs": [],
   "source": [
    "train_dir = os.path.join(data_dir, 'training')\n",
    "val_dir = os.path.join(data_dir, 'validation')\n",
    "test_dir = os.path.join(data_dir, 'test')"
   ]
  },
  {
   "cell_type": "code",
   "execution_count": 5,
   "id": "345749c7",
   "metadata": {
    "execution": {
     "iopub.execute_input": "2025-01-20T03:05:13.135575Z",
     "iopub.status.busy": "2025-01-20T03:05:13.135349Z",
     "iopub.status.idle": "2025-01-20T03:05:13.139604Z",
     "shell.execute_reply": "2025-01-20T03:05:13.139036Z"
    },
    "papermill": {
     "duration": 0.009143,
     "end_time": "2025-01-20T03:05:13.140758",
     "exception": false,
     "start_time": "2025-01-20T03:05:13.131615",
     "status": "completed"
    },
    "tags": []
   },
   "outputs": [],
   "source": [
    "train_transforms = transforms.Compose([\n",
    "    transforms.Resize((224, 224)),\n",
    "    transforms.RandomHorizontalFlip(),\n",
    "    transforms.RandomRotation(15),\n",
    "    transforms.ToTensor(),\n",
    "    transforms.Normalize([0.485, 0.456, 0.406], [0.229, 0.224, 0.225])\n",
    "])\n",
    "\n",
    "val_transforms = transforms.Compose([\n",
    "    transforms.Resize((224, 224)),\n",
    "    transforms.ToTensor(),\n",
    "    transforms.Normalize([0.485, 0.456, 0.406], [0.229, 0.224, 0.225])\n",
    "])"
   ]
  },
  {
   "cell_type": "code",
   "execution_count": 6,
   "id": "cb310f95",
   "metadata": {
    "execution": {
     "iopub.execute_input": "2025-01-20T03:05:13.147876Z",
     "iopub.status.busy": "2025-01-20T03:05:13.147661Z",
     "iopub.status.idle": "2025-01-20T03:05:25.869393Z",
     "shell.execute_reply": "2025-01-20T03:05:25.868682Z"
    },
    "papermill": {
     "duration": 12.726901,
     "end_time": "2025-01-20T03:05:25.870866",
     "exception": false,
     "start_time": "2025-01-20T03:05:13.143965",
     "status": "completed"
    },
    "tags": []
   },
   "outputs": [],
   "source": [
    "train_dataset = datasets.ImageFolder(train_dir, transform=train_transforms)\n",
    "val_dataset = datasets.ImageFolder(val_dir, transform=val_transforms)\n",
    "\n",
    "test_dataset = datasets.ImageFolder(test_dir, transform=val_transforms)"
   ]
  },
  {
   "cell_type": "code",
   "execution_count": 7,
   "id": "de3dc5b8",
   "metadata": {
    "execution": {
     "iopub.execute_input": "2025-01-20T03:05:25.878909Z",
     "iopub.status.busy": "2025-01-20T03:05:25.878667Z",
     "iopub.status.idle": "2025-01-20T03:05:25.883046Z",
     "shell.execute_reply": "2025-01-20T03:05:25.882437Z"
    },
    "papermill": {
     "duration": 0.009642,
     "end_time": "2025-01-20T03:05:25.884244",
     "exception": false,
     "start_time": "2025-01-20T03:05:25.874602",
     "status": "completed"
    },
    "tags": []
   },
   "outputs": [],
   "source": [
    "train_loader = DataLoader(train_dataset, batch_size=32, shuffle=True)\n",
    "val_loader = DataLoader(val_dataset, batch_size=32, shuffle=False)\n",
    "test_loader = DataLoader(test_dataset, batch_size=32, shuffle=False)"
   ]
  },
  {
   "cell_type": "code",
   "execution_count": 8,
   "id": "80cf6d15",
   "metadata": {
    "execution": {
     "iopub.execute_input": "2025-01-20T03:05:25.891691Z",
     "iopub.status.busy": "2025-01-20T03:05:25.891458Z",
     "iopub.status.idle": "2025-01-20T03:05:27.194334Z",
     "shell.execute_reply": "2025-01-20T03:05:27.193342Z"
    },
    "papermill": {
     "duration": 1.308334,
     "end_time": "2025-01-20T03:05:27.196125",
     "exception": false,
     "start_time": "2025-01-20T03:05:25.887791",
     "status": "completed"
    },
    "tags": []
   },
   "outputs": [
    {
     "name": "stderr",
     "output_type": "stream",
     "text": [
      "Downloading: \"https://download.pytorch.org/models/resnet18-f37072fd.pth\" to /root/.cache/torch/hub/checkpoints/resnet18-f37072fd.pth\n",
      "100%|██████████| 44.7M/44.7M [00:00<00:00, 64.3MB/s]\n"
     ]
    }
   ],
   "source": [
    "model = models.resnet18(weights='DEFAULT')\n",
    "num_features = model.fc.in_features\n",
    "model.fc = nn.Linear(num_features, 4)\n",
    "model = model.to(device)"
   ]
  },
  {
   "cell_type": "code",
   "execution_count": 9,
   "id": "0387ae06",
   "metadata": {
    "execution": {
     "iopub.execute_input": "2025-01-20T03:05:27.205119Z",
     "iopub.status.busy": "2025-01-20T03:05:27.204823Z",
     "iopub.status.idle": "2025-01-20T03:05:27.208915Z",
     "shell.execute_reply": "2025-01-20T03:05:27.208214Z"
    },
    "papermill": {
     "duration": 0.00981,
     "end_time": "2025-01-20T03:05:27.210201",
     "exception": false,
     "start_time": "2025-01-20T03:05:27.200391",
     "status": "completed"
    },
    "tags": []
   },
   "outputs": [],
   "source": [
    "criterion = nn.CrossEntropyLoss()\n",
    "optimizer = optim.Adam(model.parameters(), lr=0.001)"
   ]
  },
  {
   "cell_type": "code",
   "execution_count": 10,
   "id": "06af6c07",
   "metadata": {
    "execution": {
     "iopub.execute_input": "2025-01-20T03:05:27.218874Z",
     "iopub.status.busy": "2025-01-20T03:05:27.218656Z",
     "iopub.status.idle": "2025-01-20T03:05:27.225936Z",
     "shell.execute_reply": "2025-01-20T03:05:27.225309Z"
    },
    "papermill": {
     "duration": 0.012806,
     "end_time": "2025-01-20T03:05:27.227107",
     "exception": false,
     "start_time": "2025-01-20T03:05:27.214301",
     "status": "completed"
    },
    "tags": []
   },
   "outputs": [],
   "source": [
    "def train_model(model, train_loader, val_loader, criterion, optimizer, num_epochs=25):\n",
    "    train_losses = []\n",
    "    val_losses = []\n",
    "    train_accuracies = []\n",
    "    val_accuracies = []\n",
    "\n",
    "    for epoch in range(num_epochs):\n",
    "        model.train()\n",
    "        running_loss = 0.0\n",
    "        correct = 0\n",
    "        total = 0\n",
    "\n",
    "        for inputs, labels in train_loader:\n",
    "            inputs, labels = inputs.to(device), labels.to(device)\n",
    "\n",
    "            optimizer.zero_grad()\n",
    "            outputs = model(inputs)\n",
    "            loss = criterion(outputs, labels)\n",
    "            loss.backward()\n",
    "            optimizer.step()\n",
    "\n",
    "            running_loss += loss.item() * inputs.size(0)\n",
    "            _, preds = torch.max(outputs, 1)\n",
    "            correct += (preds == labels).sum().item()\n",
    "            total += labels.size(0)\n",
    "\n",
    "        epoch_loss = running_loss / len(train_loader.dataset)\n",
    "        epoch_acc = correct / total\n",
    "        train_losses.append(epoch_loss)\n",
    "        train_accuracies.append(epoch_acc)\n",
    "\n",
    "        print(f\"Epoch {epoch + 1}/{num_epochs} - Loss: {epoch_loss:.4f}, Accuracy: {epoch_acc:.4f}\")\n",
    "\n",
    "        # Validation\n",
    "        model.eval()\n",
    "        val_loss = 0.0\n",
    "        val_correct = 0\n",
    "        val_total = 0\n",
    "\n",
    "        with torch.no_grad():\n",
    "            for inputs, labels in val_loader:\n",
    "                inputs, labels = inputs.to(device), labels.to(device)\n",
    "                outputs = model(inputs)\n",
    "                loss = criterion(outputs, labels)\n",
    "\n",
    "                val_loss += loss.item() * inputs.size(0)\n",
    "                _, preds = torch.max(outputs, 1)\n",
    "                val_correct += (preds == labels).sum().item()\n",
    "                val_total += labels.size(0)\n",
    "\n",
    "        val_loss = val_loss / len(val_loader.dataset)\n",
    "        val_acc = val_correct / val_total\n",
    "        val_losses.append(val_loss)\n",
    "        val_accuracies.append(val_acc)\n",
    "\n",
    "        print(f\"Validation Loss: {val_loss:.4f}, Validation Accuracy: {val_acc:.4f}\\n\")\n",
    "\n",
    "    return train_losses, val_losses, train_accuracies, val_accuracies"
   ]
  },
  {
   "cell_type": "code",
   "execution_count": 11,
   "id": "1f68c2b2",
   "metadata": {
    "execution": {
     "iopub.execute_input": "2025-01-20T03:05:27.235480Z",
     "iopub.status.busy": "2025-01-20T03:05:27.235276Z",
     "iopub.status.idle": "2025-01-20T03:05:27.239968Z",
     "shell.execute_reply": "2025-01-20T03:05:27.239311Z"
    },
    "papermill": {
     "duration": 0.010262,
     "end_time": "2025-01-20T03:05:27.241263",
     "exception": false,
     "start_time": "2025-01-20T03:05:27.231001",
     "status": "completed"
    },
    "tags": []
   },
   "outputs": [],
   "source": [
    "def plot_training_history(train_losses, val_losses, train_accuracies, val_accuracies, num_epochs):\n",
    "    plt.figure(figsize=(12, 6))\n",
    "\n",
    "    # Loss plot\n",
    "    plt.subplot(1, 2, 1)\n",
    "    plt.plot(range(1, num_epochs + 1), train_losses, label='Train Loss')\n",
    "    plt.plot(range(1, num_epochs + 1), val_losses, label='Validation Loss')\n",
    "    plt.xlabel('Epochs')\n",
    "    plt.ylabel('Loss')\n",
    "    plt.title('Loss Over Epochs')\n",
    "    plt.legend()\n",
    "\n",
    "    # Accuracy plot\n",
    "    plt.subplot(1, 2, 2)\n",
    "    plt.plot(range(1, num_epochs + 1), train_accuracies, label='Train Accuracy')\n",
    "    plt.plot(range(1, num_epochs + 1), val_accuracies, label='Validation Accuracy')\n",
    "    plt.xlabel('Epochs')\n",
    "    plt.ylabel('Accuracy')\n",
    "    plt.title('Accuracy Over Epochs')\n",
    "    plt.legend()\n",
    "\n",
    "    plt.tight_layout()\n",
    "    plt.show()"
   ]
  },
  {
   "cell_type": "code",
   "execution_count": 12,
   "id": "b7bc6be4",
   "metadata": {
    "execution": {
     "iopub.execute_input": "2025-01-20T03:05:27.249465Z",
     "iopub.status.busy": "2025-01-20T03:05:27.249262Z",
     "iopub.status.idle": "2025-01-20T03:17:33.611249Z",
     "shell.execute_reply": "2025-01-20T03:17:33.610143Z"
    },
    "papermill": {
     "duration": 726.36765,
     "end_time": "2025-01-20T03:17:33.612643",
     "exception": false,
     "start_time": "2025-01-20T03:05:27.244993",
     "status": "completed"
    },
    "tags": []
   },
   "outputs": [
    {
     "name": "stdout",
     "output_type": "stream",
     "text": [
      "Epoch 1/25 - Loss: 0.4887, Accuracy: 0.8131\n",
      "Validation Loss: 0.3738, Validation Accuracy: 0.8616\n",
      "\n",
      "Epoch 2/25 - Loss: 0.3069, Accuracy: 0.8905\n",
      "Validation Loss: 0.9864, Validation Accuracy: 0.7456\n",
      "\n",
      "Epoch 3/25 - Loss: 0.2596, Accuracy: 0.9080\n",
      "Validation Loss: 0.2770, Validation Accuracy: 0.8987\n",
      "\n",
      "Epoch 4/25 - Loss: 0.2098, Accuracy: 0.9213\n",
      "Validation Loss: 0.2773, Validation Accuracy: 0.9211\n",
      "\n",
      "Epoch 5/25 - Loss: 0.2122, Accuracy: 0.9211\n",
      "Validation Loss: 0.1846, Validation Accuracy: 0.9404\n",
      "\n",
      "Epoch 6/25 - Loss: 0.1894, Accuracy: 0.9304\n",
      "Validation Loss: 0.2160, Validation Accuracy: 0.9196\n",
      "\n",
      "Epoch 7/25 - Loss: 0.1757, Accuracy: 0.9355\n",
      "Validation Loss: 0.1882, Validation Accuracy: 0.9420\n",
      "\n",
      "Epoch 8/25 - Loss: 0.1772, Accuracy: 0.9354\n",
      "Validation Loss: 0.2129, Validation Accuracy: 0.9196\n",
      "\n",
      "Epoch 9/25 - Loss: 0.1674, Accuracy: 0.9369\n",
      "Validation Loss: 0.2765, Validation Accuracy: 0.9157\n",
      "\n",
      "Epoch 10/25 - Loss: 0.1392, Accuracy: 0.9495\n",
      "Validation Loss: 0.3084, Validation Accuracy: 0.8917\n",
      "\n",
      "Epoch 11/25 - Loss: 0.1599, Accuracy: 0.9437\n",
      "Validation Loss: 0.1744, Validation Accuracy: 0.9420\n",
      "\n",
      "Epoch 12/25 - Loss: 0.1406, Accuracy: 0.9506\n",
      "Validation Loss: 0.2663, Validation Accuracy: 0.9157\n",
      "\n",
      "Epoch 13/25 - Loss: 0.1432, Accuracy: 0.9486\n",
      "Validation Loss: 0.1801, Validation Accuracy: 0.9389\n",
      "\n",
      "Epoch 14/25 - Loss: 0.1310, Accuracy: 0.9513\n",
      "Validation Loss: 0.2022, Validation Accuracy: 0.9366\n",
      "\n",
      "Epoch 15/25 - Loss: 0.1342, Accuracy: 0.9526\n",
      "Validation Loss: 0.1867, Validation Accuracy: 0.9397\n",
      "\n",
      "Epoch 16/25 - Loss: 0.1171, Accuracy: 0.9586\n",
      "Validation Loss: 0.2545, Validation Accuracy: 0.9273\n",
      "\n",
      "Epoch 17/25 - Loss: 0.1147, Accuracy: 0.9599\n",
      "Validation Loss: 0.2642, Validation Accuracy: 0.9219\n",
      "\n",
      "Epoch 18/25 - Loss: 0.1071, Accuracy: 0.9630\n",
      "Validation Loss: 0.1991, Validation Accuracy: 0.9412\n",
      "\n",
      "Epoch 19/25 - Loss: 0.1166, Accuracy: 0.9601\n",
      "Validation Loss: 0.2542, Validation Accuracy: 0.9366\n",
      "\n",
      "Epoch 20/25 - Loss: 0.0904, Accuracy: 0.9670\n",
      "Validation Loss: 0.2098, Validation Accuracy: 0.9420\n",
      "\n",
      "Epoch 21/25 - Loss: 0.0934, Accuracy: 0.9657\n",
      "Validation Loss: 0.1774, Validation Accuracy: 0.9420\n",
      "\n",
      "Epoch 22/25 - Loss: 0.0908, Accuracy: 0.9677\n",
      "Validation Loss: 0.2109, Validation Accuracy: 0.9327\n",
      "\n",
      "Epoch 23/25 - Loss: 0.1006, Accuracy: 0.9657\n",
      "Validation Loss: 0.2709, Validation Accuracy: 0.9142\n",
      "\n",
      "Epoch 24/25 - Loss: 0.1046, Accuracy: 0.9642\n",
      "Validation Loss: 0.2505, Validation Accuracy: 0.9265\n",
      "\n",
      "Epoch 25/25 - Loss: 0.0826, Accuracy: 0.9713\n",
      "Validation Loss: 0.1975, Validation Accuracy: 0.9397\n",
      "\n"
     ]
    }
   ],
   "source": [
    "num_epochs = 25\n",
    "train_losses, val_losses, train_accuracies, val_accuracies = train_model(model, train_loader, val_loader, criterion, optimizer, num_epochs)"
   ]
  },
  {
   "cell_type": "code",
   "execution_count": 13,
   "id": "560ce879",
   "metadata": {
    "execution": {
     "iopub.execute_input": "2025-01-20T03:17:33.625787Z",
     "iopub.status.busy": "2025-01-20T03:17:33.625541Z",
     "iopub.status.idle": "2025-01-20T03:17:34.052245Z",
     "shell.execute_reply": "2025-01-20T03:17:34.051424Z"
    },
    "papermill": {
     "duration": 0.434862,
     "end_time": "2025-01-20T03:17:34.053920",
     "exception": false,
     "start_time": "2025-01-20T03:17:33.619058",
     "status": "completed"
    },
    "tags": []
   },
   "outputs": [
    {
     "data": {
      "image/png": "[encoded data removed]",
      "text/plain": [
       "<Figure size 1200x600 with 2 Axes>"
      ]
     },
     "metadata": {},
     "output_type": "display_data"
    }
   ],
   "source": [
    "plot_training_history(train_losses, val_losses, train_accuracies, val_accuracies, num_epochs)"
   ]
  },
  {
   "cell_type": "code",
   "execution_count": 14,
   "id": "f927edfb",
   "metadata": {
    "execution": {
     "iopub.execute_input": "2025-01-20T03:17:34.070009Z",
     "iopub.status.busy": "2025-01-20T03:17:34.069707Z",
     "iopub.status.idle": "2025-01-20T03:17:34.141514Z",
     "shell.execute_reply": "2025-01-20T03:17:34.140782Z"
    },
    "papermill": {
     "duration": 0.081485,
     "end_time": "2025-01-20T03:17:34.143184",
     "exception": false,
     "start_time": "2025-01-20T03:17:34.061699",
     "status": "completed"
    },
    "tags": []
   },
   "outputs": [],
   "source": [
    "torch.save(model.state_dict(), \"resnet18_bean_disease.pth\")"
   ]
  },
  {
   "cell_type": "code",
   "execution_count": 15,
   "id": "0b79381e",
   "metadata": {
    "execution": {
     "iopub.execute_input": "2025-01-20T03:17:34.159090Z",
     "iopub.status.busy": "2025-01-20T03:17:34.158821Z",
     "iopub.status.idle": "2025-01-20T03:17:34.163635Z",
     "shell.execute_reply": "2025-01-20T03:17:34.162848Z"
    },
    "papermill": {
     "duration": 0.014117,
     "end_time": "2025-01-20T03:17:34.165012",
     "exception": false,
     "start_time": "2025-01-20T03:17:34.150895",
     "status": "completed"
    },
    "tags": []
   },
   "outputs": [],
   "source": [
    "def test_model(model, test_loader):\n",
    "    model.eval()\n",
    "    correct = 0\n",
    "    total = 0\n",
    "    all_preds = []\n",
    "    all_labels = []\n",
    "\n",
    "    with torch.no_grad():\n",
    "        for inputs, labels in test_loader:\n",
    "            inputs, labels = inputs.to(device), labels.to(device)\n",
    "            outputs = model(inputs)\n",
    "            _, preds = torch.max(outputs, 1)\n",
    "            correct += (preds == labels).sum().item()\n",
    "            total += labels.size(0)\n",
    "\n",
    "            all_preds.extend(preds.cpu().numpy())\n",
    "            all_labels.extend(labels.cpu().numpy())\n",
    "\n",
    "    print(f\"Test Accuracy: {correct / total:.4f}\")\n",
    "    return all_labels, all_preds"
   ]
  },
  {
   "cell_type": "code",
   "execution_count": 16,
   "id": "bdc4bb07",
   "metadata": {
    "execution": {
     "iopub.execute_input": "2025-01-20T03:17:34.180506Z",
     "iopub.status.busy": "2025-01-20T03:17:34.180293Z",
     "iopub.status.idle": "2025-01-20T03:17:34.184403Z",
     "shell.execute_reply": "2025-01-20T03:17:34.183691Z"
    },
    "papermill": {
     "duration": 0.013359,
     "end_time": "2025-01-20T03:17:34.185554",
     "exception": false,
     "start_time": "2025-01-20T03:17:34.172195",
     "status": "completed"
    },
    "tags": []
   },
   "outputs": [],
   "source": [
    "def plot_test_metrics(all_labels, all_preds, classes):\n",
    "    print(\"Classification Report:\")\n",
    "    print(classification_report(all_labels, all_preds, target_names=classes))\n",
    "\n",
    "    cm = confusion_matrix(all_labels, all_preds)\n",
    "    plt.figure(figsize=(8, 8))\n",
    "    sns.heatmap(cm, annot=True, fmt='d', cmap='Blues', xticklabels=classes, yticklabels=classes)\n",
    "    plt.xlabel('Predicted')\n",
    "    plt.ylabel('Actual')\n",
    "    plt.title('Confusion Matrix')\n",
    "    plt.show()"
   ]
  },
  {
   "cell_type": "code",
   "execution_count": 17,
   "id": "357a4156",
   "metadata": {
    "execution": {
     "iopub.execute_input": "2025-01-20T03:17:34.201002Z",
     "iopub.status.busy": "2025-01-20T03:17:34.200768Z",
     "iopub.status.idle": "2025-01-20T03:17:41.536160Z",
     "shell.execute_reply": "2025-01-20T03:17:41.535074Z"
    },
    "papermill": {
     "duration": 7.344423,
     "end_time": "2025-01-20T03:17:41.537540",
     "exception": false,
     "start_time": "2025-01-20T03:17:34.193117",
     "status": "completed"
    },
    "tags": []
   },
   "outputs": [
    {
     "name": "stdout",
     "output_type": "stream",
     "text": [
      "Test Accuracy: 0.9336\n"
     ]
    }
   ],
   "source": [
    "all_labels, all_preds = test_model(model, test_loader)"
   ]
  },
  {
   "cell_type": "code",
   "execution_count": 18,
   "id": "3418485f",
   "metadata": {
    "execution": {
     "iopub.execute_input": "2025-01-20T03:17:41.553784Z",
     "iopub.status.busy": "2025-01-20T03:17:41.553533Z",
     "iopub.status.idle": "2025-01-20T03:17:41.781441Z",
     "shell.execute_reply": "2025-01-20T03:17:41.780562Z"
    },
    "papermill": {
     "duration": 0.237331,
     "end_time": "2025-01-20T03:17:41.782895",
     "exception": false,
     "start_time": "2025-01-20T03:17:41.545564",
     "status": "completed"
    },
    "tags": []
   },
   "outputs": [
    {
     "name": "stdout",
     "output_type": "stream",
     "text": [
      "Classification Report:\n",
      "              precision    recall  f1-score   support\n",
      "\n",
      "         als       0.88      0.96      0.92       376\n",
      "   bean_rust       0.98      0.84      0.90       376\n",
      "     healthy       0.91      0.97      0.94       343\n",
      "     unknown       1.00      1.00      1.00       201\n",
      "\n",
      "    accuracy                           0.93      1296\n",
      "   macro avg       0.94      0.94      0.94      1296\n",
      "weighted avg       0.94      0.93      0.93      1296\n",
      "\n"
     ]
    },
    {
     "data": {
      "image/png": "[encoded data removed]",
      "text/plain": [
       "<Figure size 800x800 with 2 Axes>"
      ]
     },
     "metadata": {},
     "output_type": "display_data"
    }
   ],
   "source": [
    "plot_test_metrics(all_labels, all_preds, test_loader.dataset.classes)"
   ]
  }
 ],
 "metadata": {
  "kaggle": {
   "accelerator": "gpu",
   "dataSources": [
    {
     "datasetId": 5066884,
     "sourceId": 8492512,
     "sourceType": "datasetVersion"
    }
   ],
   "dockerImageVersionId": 30840,
   "isGpuEnabled": true,
   "isInternetEnabled": true,
   "language": "python",
   "sourceType": "notebook"
  },
  "kernelspec": {
   "display_name": "Python 3",
   "language": "python",
   "name": "python3"
  },
  "language_info": {
   "codemirror_mode": {
    "name": "ipython",
    "version": 3
   },
   "file_extension": ".py",
   "mimetype": "text/x-python",
   "name": "python",
   "nbconvert_exporter": "python",
   "pygments_lexer": "ipython3",
   "version": "3.10.12"
  },
  "papermill": {
   "default_parameters": {},
   "duration": 763.062411,
   "end_time": "2025-01-20T03:17:44.197458",
   "environment_variables": {},
   "exception": null,
   "input_path": "__notebook__.ipynb",
   "output_path": "__notebook__.ipynb",
   "parameters": {},
   "start_time": "2025-01-20T03:05:01.135047",
   "version": "2.6.0"
  }
 },
 "nbformat": 4,
 "nbformat_minor": 5
}
